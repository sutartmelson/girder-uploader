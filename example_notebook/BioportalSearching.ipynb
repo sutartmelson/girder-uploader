{
 "cells": [
  {
   "cell_type": "code",
   "execution_count": 12,
   "metadata": {
    "collapsed": false
   },
   "outputs": [],
   "source": [
    "from girder_uploader.girderUploader import GirderUploader"
   ]
  },
  {
   "cell_type": "code",
   "execution_count": 13,
   "metadata": {
    "collapsed": false,
    "scrolled": false
   },
   "outputs": [
    {
     "name": "stdout",
     "output_type": "stream",
     "text": [
      "Uploading Item from testsingle.dcm\n"
     ]
    }
   ],
   "source": [
    "# Specify the API URL of your Girder instance\n",
    "girder_api_url = 'http://localhost:8080/api/v1/'\n",
    "\n",
    "# Specify the path to the file or folder you wish to upload\n",
    "local_path = '/home/adam/Downloads/dicomImages/other/testsingle.dcm'\n",
    "\n",
    "# Specify the unix style path to where you want the file\n",
    "# on girder. Unix path starting with either \"/user/[user name]\", \n",
    "# for a user's resources or \"/collection/[collection name]\",\n",
    "# for resources under a collection.\n",
    "girder_dest_path = 'user/adam/Public/folder1/folder12/folder24'\n",
    "\n",
    "# Provide girder username and password\n",
    "username = 'adam'\n",
    "password = '123456'\n",
    "\n",
    "gu = GirderUploader(girder_api_url, username, password)\n",
    "\n",
    "# In this example, we wish to require the user to provide 'Anatomical Region'\n",
    "# metadata, and we want to restrict the bioportal search to the UBERON ontology.\n",
    "gu.request_metadata('Anatomical Region', ['UBERON'], require=True)\n",
    "\n",
    "# We also want to request 'Disease' metadata, restricting the bioportal search\n",
    "# to the DOID ontology, but we do not require this metadata for uploading. \n",
    "gu.request_metadata('Disease', ['DOID'])\n",
    "\n",
    "# A call to upload_folder creates the widgets and waits for the submit button to\n",
    "# be clicked before uploading to girder.\n",
    "gu.upload_folder(girder_dest_path, local_path)"
   ]
  },
  {
   "cell_type": "code",
   "execution_count": 3,
   "metadata": {
    "collapsed": false
   },
   "outputs": [
    {
     "ename": "TypeError",
     "evalue": "'NoneType' object is not subscriptable",
     "output_type": "error",
     "traceback": [
      "\u001b[0;31m---------------------------------------------------------------------------\u001b[0m",
      "\u001b[0;31mTypeError\u001b[0m                                 Traceback (most recent call last)",
      "\u001b[0;32m<ipython-input-3-d9ab267f3380>\u001b[0m in \u001b[0;36m<module>\u001b[0;34m()\u001b[0m\n\u001b[1;32m     18\u001b[0m \u001b[0mgu\u001b[0m \u001b[0;34m=\u001b[0m \u001b[0mGirderUploader\u001b[0m\u001b[0;34m(\u001b[0m\u001b[0mgirder_api_url\u001b[0m\u001b[0;34m,\u001b[0m \u001b[0musername\u001b[0m\u001b[0;34m,\u001b[0m \u001b[0mpassword\u001b[0m\u001b[0;34m)\u001b[0m\u001b[0;34m\u001b[0m\u001b[0m\n\u001b[1;32m     19\u001b[0m \u001b[0;34m\u001b[0m\u001b[0m\n\u001b[0;32m---> 20\u001b[0;31m \u001b[0mgu\u001b[0m\u001b[0;34m.\u001b[0m\u001b[0mupload_folder_with_metadata\u001b[0m\u001b[0;34m(\u001b[0m\u001b[0mgirder_dest_path\u001b[0m\u001b[0;34m,\u001b[0m \u001b[0mlocal_path\u001b[0m\u001b[0;34m,\u001b[0m \u001b[0mMetadataPresets\u001b[0m\u001b[0;34m.\u001b[0m\u001b[0mchest\u001b[0m\u001b[0;34m)\u001b[0m\u001b[0;34m\u001b[0m\u001b[0m\n\u001b[0m",
      "\u001b[0;32m/home/adam/Desktop/repo/girder-uploader/girder_uploader/girderUploader.py\u001b[0m in \u001b[0;36mupload_folder_with_metadata\u001b[0;34m(self, girder_dest_path, local_path, metadata)\u001b[0m\n\u001b[1;32m     49\u001b[0m         \u001b[0mself\u001b[0m\u001b[0;34m.\u001b[0m\u001b[0m_local_path\u001b[0m \u001b[0;34m=\u001b[0m \u001b[0mlocal_path\u001b[0m\u001b[0;34m\u001b[0m\u001b[0m\n\u001b[1;32m     50\u001b[0m         \u001b[0mself\u001b[0m\u001b[0;34m.\u001b[0m\u001b[0m_girder_dest_path\u001b[0m \u001b[0;34m=\u001b[0m \u001b[0mgirder_dest_path\u001b[0m\u001b[0;34m\u001b[0m\u001b[0m\n\u001b[0;32m---> 51\u001b[0;31m         \u001b[0mparentId\u001b[0m\u001b[0;34m,\u001b[0m \u001b[0mparentType\u001b[0m \u001b[0;34m=\u001b[0m \u001b[0mself\u001b[0m\u001b[0;34m.\u001b[0m\u001b[0m__get_parent_id_and_type\u001b[0m\u001b[0;34m(\u001b[0m\u001b[0;34m)\u001b[0m\u001b[0;34m\u001b[0m\u001b[0m\n\u001b[0m\u001b[1;32m     52\u001b[0m         self._client.upload(self._local_path, parentId,\n\u001b[1;32m     53\u001b[0m                             parent_type=parentType)\n",
      "\u001b[0;32m/home/adam/Desktop/repo/girder-uploader/girder_uploader/girderUploader.py\u001b[0m in \u001b[0;36m__get_parent_id_and_type\u001b[0;34m(self)\u001b[0m\n\u001b[1;32m    159\u001b[0m         response = self._client.get('resource/lookup',\n\u001b[1;32m    160\u001b[0m                                     parameters=params)\n\u001b[0;32m--> 161\u001b[0;31m         \u001b[0mparentType\u001b[0m \u001b[0;34m=\u001b[0m \u001b[0mresponse\u001b[0m\u001b[0;34m[\u001b[0m\u001b[0;34m'_modelType'\u001b[0m\u001b[0;34m]\u001b[0m\u001b[0;34m\u001b[0m\u001b[0m\n\u001b[0m\u001b[1;32m    162\u001b[0m         \u001b[0mparentId\u001b[0m \u001b[0;34m=\u001b[0m \u001b[0mresponse\u001b[0m\u001b[0;34m[\u001b[0m\u001b[0;34m'_id'\u001b[0m\u001b[0;34m]\u001b[0m\u001b[0;34m\u001b[0m\u001b[0m\n\u001b[1;32m    163\u001b[0m         \u001b[0;32mreturn\u001b[0m \u001b[0;34m(\u001b[0m\u001b[0mparentId\u001b[0m\u001b[0;34m,\u001b[0m \u001b[0mparentType\u001b[0m\u001b[0;34m)\u001b[0m\u001b[0;34m\u001b[0m\u001b[0m\n",
      "\u001b[0;31mTypeError\u001b[0m: 'NoneType' object is not subscriptable"
     ]
    }
   ],
   "source": [
    "from girder_uploader.metadataPresets import MetadataPresets\n",
    "# Specify the API URL of your Girder instance\n",
    "girder_api_url = 'http://localhost:8080/api/v1/'\n",
    "\n",
    "# Specify the path to the file or folder you wish to upload\n",
    "local_path = '/Users/user/Downloads/sampleDICOM/sample1'\n",
    "\n",
    "# Specify the unix style path to where you want the file\n",
    "# on girder. Unix path starting with either \"/user/[user name]\", \n",
    "# for a user's resources or \"/collection/[collection name]\",\n",
    "# for resources under a collection.\n",
    "girder_dest_path = 'collection/c'\n",
    "\n",
    "# Provide girder username and password\n",
    "username = 'test'\n",
    "password = '123456'\n",
    "\n",
    "gu = GirderUploader(girder_api_url, username, password)\n",
    "\n",
    "gu.upload_folder_with_metadata(girder_dest_path, local_path, MetadataPresets.chest)"
   ]
  },
  {
   "cell_type": "code",
   "execution_count": null,
   "metadata": {
    "collapsed": true
   },
   "outputs": [],
   "source": []
  }
 ],
 "metadata": {
  "anaconda-cloud": {},
  "kernelspec": {
   "display_name": "Python [Root]",
   "language": "python",
   "name": "Python [Root]"
  },
  "language_info": {
   "codemirror_mode": {
    "name": "ipython",
    "version": 3
   },
   "file_extension": ".py",
   "mimetype": "text/x-python",
   "name": "python",
   "nbconvert_exporter": "python",
   "pygments_lexer": "ipython3",
   "version": "3.5.2"
  },
  "widgets": {
   "state": {
    "17d3bbec9e5446dfa0ef91a7a49e4eb8": {
     "views": [
      {
       "cell_index": 1
      }
     ]
    },
    "2e0cf6ad1fe84117a06915c7c65af400": {
     "views": [
      {
       "cell_index": 1
      }
     ]
    },
    "4daeaa368007464e875bc9e5d7dceb6f": {
     "views": [
      {
       "cell_index": 1
      }
     ]
    },
    "4eaca8445dc04e69b47ffad1c58561f2": {
     "views": [
      {
       "cell_index": 1
      }
     ]
    },
    "5d890866690c4e4099b839c0d3c9ef57": {
     "views": [
      {
       "cell_index": 1
      }
     ]
    },
    "7a24c801ab6c44f8b797aac4bb0a467f": {
     "views": [
      {
       "cell_index": 1
      }
     ]
    },
    "90439d580a5e48c7bcaaff985dfedd89": {
     "views": [
      {
       "cell_index": 1
      }
     ]
    },
    "c406a74217904df4a668c1db3b11b415": {
     "views": [
      {
       "cell_index": 1
      }
     ]
    },
    "e9ce3450c035443da77adabe3d586ecb": {
     "views": [
      {
       "cell_index": 1
      }
     ]
    }
   },
   "version": "1.2.0"
  }
 },
 "nbformat": 4,
 "nbformat_minor": 0
}
